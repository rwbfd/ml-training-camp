{
  "nbformat": 4,
  "nbformat_minor": 0,
  "metadata": {
    "colab": {
      "name": "chap06.ipynb",
      "provenance": [],
      "collapsed_sections": [],
      "machine_shape": "hm"
    },
    "kernelspec": {
      "display_name": "Python 3",
      "name": "python3"
    }
  },
  "cells": [
    {
      "cell_type": "markdown",
      "metadata": {
        "id": "f2YXZl_NQSSp"
      },
      "source": [
        "# Basic Tabular Mining Tips\n",
        "\n",
        "---\n",
        "In this short tutorial, we demontrate how to perform a simple data mining task on the \"Kicked!\" dataset.\n",
        "\n",
        "We will be covering:\n",
        "\n",
        "\n",
        "\n",
        "1.   Data Preprocessing using Pandas.\n",
        "2.   Some basic ideas in feature engineering.\n",
        "3.   Basic parameter tuning for tree models. \n",
        "\n"
      ]
    },
    {
      "cell_type": "code",
      "metadata": {
        "colab": {
          "background_save": true,
          "base_uri": "https://localhost:8080/"
        },
        "id": "Sa6t_iMfQN3N",
        "outputId": "7437780f-1e94-47a2-f9b6-8f6c5ea248db"
      },
      "source": [
        "!pip install lightgbm xgboost catboost category-encoders sklearn pandas==1.1.5"
      ],
      "execution_count": null,
      "outputs": [
        {
          "output_type": "stream",
          "text": [
            "Requirement already satisfied: lightgbm in /usr/local/lib/python3.6/dist-packages (2.2.3)\n",
            "Requirement already satisfied: xgboost in /usr/local/lib/python3.6/dist-packages (0.90)\n",
            "Collecting catboost\n",
            "\u001b[?25l  Downloading https://files.pythonhosted.org/packages/7e/c1/c1c4707013f9e2f8a96899dd3a87f66c9167d6d776a6dc8fe7ec8678d446/catboost-0.24.3-cp36-none-manylinux1_x86_64.whl (66.3MB)\n",
            "\u001b[K     |████████████████████████████████| 66.3MB 105kB/s \n",
            "\u001b[?25hCollecting category-encoders\n",
            "\u001b[?25l  Downloading https://files.pythonhosted.org/packages/44/57/fcef41c248701ee62e8325026b90c432adea35555cbc870aff9cfba23727/category_encoders-2.2.2-py2.py3-none-any.whl (80kB)\n",
            "\u001b[K     |████████████████████████████████| 81kB 7.1MB/s \n",
            "\u001b[?25hRequirement already satisfied: sklearn in /usr/local/lib/python3.6/dist-packages (0.0)\n",
            "Requirement already satisfied: pandas==1.1.5 in /usr/local/lib/python3.6/dist-packages (1.1.5)\n",
            "Requirement already satisfied: numpy in /usr/local/lib/python3.6/dist-packages (from lightgbm) (1.19.4)\n",
            "Requirement already satisfied: scipy in /usr/local/lib/python3.6/dist-packages (from lightgbm) (1.4.1)\n",
            "Requirement already satisfied: scikit-learn in /usr/local/lib/python3.6/dist-packages (from lightgbm) (0.22.2.post1)\n",
            "Requirement already satisfied: graphviz in /usr/local/lib/python3.6/dist-packages (from catboost) (0.10.1)\n",
            "Requirement already satisfied: six in /usr/local/lib/python3.6/dist-packages (from catboost) (1.15.0)\n",
            "Requirement already satisfied: plotly in /usr/local/lib/python3.6/dist-packages (from catboost) (4.4.1)\n",
            "Requirement already satisfied: matplotlib in /usr/local/lib/python3.6/dist-packages (from catboost) (3.2.2)\n",
            "Requirement already satisfied: statsmodels>=0.9.0 in /usr/local/lib/python3.6/dist-packages (from category-encoders) (0.10.2)\n",
            "Requirement already satisfied: patsy>=0.5.1 in /usr/local/lib/python3.6/dist-packages (from category-encoders) (0.5.1)\n",
            "Requirement already satisfied: pytz>=2017.2 in /usr/local/lib/python3.6/dist-packages (from pandas==1.1.5) (2018.9)\n",
            "Requirement already satisfied: python-dateutil>=2.7.3 in /usr/local/lib/python3.6/dist-packages (from pandas==1.1.5) (2.8.1)\n",
            "Requirement already satisfied: joblib>=0.11 in /usr/local/lib/python3.6/dist-packages (from scikit-learn->lightgbm) (1.0.0)\n",
            "Requirement already satisfied: retrying>=1.3.3 in /usr/local/lib/python3.6/dist-packages (from plotly->catboost) (1.3.3)\n",
            "Requirement already satisfied: pyparsing!=2.0.4,!=2.1.2,!=2.1.6,>=2.0.1 in /usr/local/lib/python3.6/dist-packages (from matplotlib->catboost) (2.4.7)\n",
            "Requirement already satisfied: kiwisolver>=1.0.1 in /usr/local/lib/python3.6/dist-packages (from matplotlib->catboost) (1.3.1)\n",
            "Requirement already satisfied: cycler>=0.10 in /usr/local/lib/python3.6/dist-packages (from matplotlib->catboost) (0.10.0)\n",
            "Installing collected packages: catboost, category-encoders\n",
            "Successfully installed catboost-0.24.3 category-encoders-2.2.2\n"
          ],
          "name": "stdout"
        }
      ]
    },
    {
      "cell_type": "code",
      "metadata": {
        "colab": {
          "base_uri": "https://localhost:8080/"
        },
        "id": "QMjz30-PRVTs",
        "outputId": "b26820e5-b40d-49e7-8739-4a391f8a8a1d"
      },
      "source": [
        "!git clone https://github.com/tolarteh/cardashians.git"
      ],
      "execution_count": null,
      "outputs": [
        {
          "output_type": "stream",
          "text": [
            "Cloning into 'cardashians'...\n",
            "remote: Enumerating objects: 64, done.\u001b[K\n",
            "remote: Total 64 (delta 0), reused 0 (delta 0), pack-reused 64\u001b[K\n",
            "Unpacking objects: 100% (64/64), done.\n"
          ],
          "name": "stdout"
        }
      ]
    },
    {
      "cell_type": "code",
      "metadata": {
        "id": "gZoA3hv5RwBB"
      },
      "source": [
        "import pandas as pd\n",
        "import numpy as np\n",
        "\n",
        "x_train = pd.read_csv('./cardashians/xtrain.csv', engine='python')\n",
        "x_test = pd.read_csv('./cardashians/xtest.csv', engine='python')\n",
        "\n",
        "y_train = pd.read_csv('./cardashians/ytrain.csv', engine='python')\n",
        "y_test = pd.read_csv('./cardashians/ytest.csv', engine='python')"
      ],
      "execution_count": null,
      "outputs": []
    },
    {
      "cell_type": "code",
      "metadata": {
        "id": "xqPm5e66SCV4"
      },
      "source": [
        "TRAIN_IDX=x_train.shape[0]\n",
        "TEST_IDX = TRAIN_IDX + x_test.shape[0]"
      ],
      "execution_count": null,
      "outputs": []
    },
    {
      "cell_type": "code",
      "metadata": {
        "id": "SSyfWl8bSiTD"
      },
      "source": [
        "x = pd.concat([x_train, x_test], axis=0)\n",
        "y = pd.concat([y_train, y_test], axis=0)\n",
        "\n",
        "data = pd.concat([x, y], axis=1)"
      ],
      "execution_count": null,
      "outputs": []
    },
    {
      "cell_type": "code",
      "metadata": {
        "colab": {
          "base_uri": "https://localhost:8080/"
        },
        "id": "90k7D9AvS74h",
        "outputId": "806d7f0c-727a-44a2-c59d-786e9fb10e87"
      },
      "source": [
        "data.columns.to_list()"
      ],
      "execution_count": null,
      "outputs": [
        {
          "output_type": "execute_result",
          "data": {
            "text/plain": [
              "['VehicleAge',\n",
              " 'VehOdo',\n",
              " 'MMRAcquisitionAuctionAveragePrice',\n",
              " 'MMRAcquisitionAuctionCleanPrice',\n",
              " 'MMRAcquisitionRetailAveragePrice',\n",
              " 'MMRAcquisitonRetailCleanPrice',\n",
              " 'MMRCurrentAuctionAveragePrice',\n",
              " 'MMRCurrentAuctionCleanPrice',\n",
              " 'MMRCurrentRetailAveragePrice',\n",
              " 'MMRCurrentRetailCleanPrice',\n",
              " 'BYRNO',\n",
              " 'VehBCost',\n",
              " 'IsOnlineSale',\n",
              " 'WarrantyCost',\n",
              " 'Auction_ADESA',\n",
              " 'Auction_MANHEIM',\n",
              " 'Auction_OTHER',\n",
              " 'Make_ACURA',\n",
              " 'Make_BUICK',\n",
              " 'Make_CADILLAC',\n",
              " 'Make_CHEVROLET',\n",
              " 'Make_CHRYSLER',\n",
              " 'Make_DODGE',\n",
              " 'Make_FORD',\n",
              " 'Make_GMC',\n",
              " 'Make_HONDA',\n",
              " 'Make_HUMMER',\n",
              " 'Make_HYUNDAI',\n",
              " 'Make_INFINITI',\n",
              " 'Make_ISUZU',\n",
              " 'Make_JEEP',\n",
              " 'Make_KIA',\n",
              " 'Make_LEXUS',\n",
              " 'Make_LINCOLN',\n",
              " 'Make_MAZDA',\n",
              " 'Make_MERCURY',\n",
              " 'Make_MINI',\n",
              " 'Make_MITSUBISHI',\n",
              " 'Make_NISSAN',\n",
              " 'Make_OLDSMOBILE',\n",
              " 'Make_PLYMOUTH',\n",
              " 'Make_PONTIAC',\n",
              " 'Make_SATURN',\n",
              " 'Make_SCION',\n",
              " 'Make_SUBARU',\n",
              " 'Make_SUZUKI',\n",
              " 'Make_TOYOTA',\n",
              " 'Make_TOYOTA SCION',\n",
              " 'Make_VOLKSWAGEN',\n",
              " 'Make_VOLVO',\n",
              " 'Color_BEIGE',\n",
              " 'Color_BLACK',\n",
              " 'Color_BLUE',\n",
              " 'Color_BROWN',\n",
              " 'Color_GOLD',\n",
              " 'Color_GREEN',\n",
              " 'Color_GREY',\n",
              " 'Color_MAROON',\n",
              " 'Color_NOT AVAIL',\n",
              " 'Color_ORANGE',\n",
              " 'Color_OTHER',\n",
              " 'Color_PINK',\n",
              " 'Color_PURPLE',\n",
              " 'Color_RED',\n",
              " 'Color_SILVER',\n",
              " 'Color_U0',\n",
              " 'Color_WHITE',\n",
              " 'Color_YELLOW',\n",
              " 'Transmission_AUTO',\n",
              " 'Transmission_MANUAL',\n",
              " 'Transmission_Manual',\n",
              " 'Transmission_U0',\n",
              " 'WheelTypeID_0.0',\n",
              " 'WheelTypeID_1.0',\n",
              " 'WheelTypeID_2.0',\n",
              " 'WheelTypeID_3.0',\n",
              " 'WheelTypeID_U0',\n",
              " 'Nationality_AMERICAN',\n",
              " 'Nationality_OTHER',\n",
              " 'Nationality_OTHER ASIAN',\n",
              " 'Nationality_TOP LINE ASIAN',\n",
              " 'Nationality_U0',\n",
              " 'Size_COMPACT',\n",
              " 'Size_CROSSOVER',\n",
              " 'Size_LARGE',\n",
              " 'Size_LARGE SUV',\n",
              " 'Size_LARGE TRUCK',\n",
              " 'Size_MEDIUM',\n",
              " 'Size_MEDIUM SUV',\n",
              " 'Size_SMALL SUV',\n",
              " 'Size_SMALL TRUCK',\n",
              " 'Size_SPECIALTY',\n",
              " 'Size_SPORTS',\n",
              " 'Size_U0',\n",
              " 'Size_VAN',\n",
              " 'TopThreeAmericanName_CHRYSLER',\n",
              " 'TopThreeAmericanName_FORD',\n",
              " 'TopThreeAmericanName_GM',\n",
              " 'TopThreeAmericanName_OTHER',\n",
              " 'TopThreeAmericanName_U0',\n",
              " 'PRIMEUNIT_NO',\n",
              " 'PRIMEUNIT_U0',\n",
              " 'PRIMEUNIT_YES',\n",
              " 'AUCGUART_GREEN',\n",
              " 'AUCGUART_RED',\n",
              " 'AUCGUART_U0',\n",
              " 'VNST_AL',\n",
              " 'VNST_AR',\n",
              " 'VNST_AZ',\n",
              " 'VNST_CA',\n",
              " 'VNST_CO',\n",
              " 'VNST_FL',\n",
              " 'VNST_GA',\n",
              " 'VNST_IA',\n",
              " 'VNST_ID',\n",
              " 'VNST_IL',\n",
              " 'VNST_IN',\n",
              " 'VNST_KY',\n",
              " 'VNST_LA',\n",
              " 'VNST_MA',\n",
              " 'VNST_MD',\n",
              " 'VNST_MI',\n",
              " 'VNST_MN',\n",
              " 'VNST_MO',\n",
              " 'VNST_MS',\n",
              " 'VNST_NC',\n",
              " 'VNST_NE',\n",
              " 'VNST_NH',\n",
              " 'VNST_NJ',\n",
              " 'VNST_NM',\n",
              " 'VNST_NV',\n",
              " 'VNST_NY',\n",
              " 'VNST_OH',\n",
              " 'VNST_OK',\n",
              " 'VNST_OR',\n",
              " 'VNST_PA',\n",
              " 'VNST_SC',\n",
              " 'VNST_TN',\n",
              " 'VNST_TX',\n",
              " 'VNST_UT',\n",
              " 'VNST_VA',\n",
              " 'VNST_WA',\n",
              " 'VNST_WI',\n",
              " 'VNST_WV',\n",
              " 'IsBadBuy']"
            ]
          },
          "metadata": {
            "tags": []
          },
          "execution_count": 7
        }
      ]
    },
    {
      "cell_type": "markdown",
      "metadata": {
        "id": "32QZ1ZWcTik5"
      },
      "source": [
        "## Basic Data Manipulation\n",
        "\n",
        "Let us see how we can do some basic data preprocessing"
      ]
    },
    {
      "cell_type": "code",
      "metadata": {
        "colab": {
          "base_uri": "https://localhost:8080/"
        },
        "id": "8mzmHzvBTDN1",
        "outputId": "700fe640-da9b-4def-ce66-024599703d40"
      },
      "source": [
        "data['IsBadBuy'].unique()"
      ],
      "execution_count": null,
      "outputs": [
        {
          "output_type": "execute_result",
          "data": {
            "text/plain": [
              "array([0, 1])"
            ]
          },
          "metadata": {
            "tags": []
          },
          "execution_count": 40
        }
      ]
    },
    {
      "cell_type": "code",
      "metadata": {
        "colab": {
          "base_uri": "https://localhost:8080/"
        },
        "id": "Esq43PU9Twsw",
        "outputId": "9a6fed4c-7a42-4951-cb28-3394300410f5"
      },
      "source": [
        "data['IsBadBuy'].value_counts()"
      ],
      "execution_count": null,
      "outputs": [
        {
          "output_type": "execute_result",
          "data": {
            "text/plain": [
              "0    64007\n",
              "1     8976\n",
              "Name: IsBadBuy, dtype: int64"
            ]
          },
          "metadata": {
            "tags": []
          },
          "execution_count": 8
        }
      ]
    },
    {
      "cell_type": "code",
      "metadata": {
        "id": "6kQLzADrUYyU"
      },
      "source": [
        "cont_col = ['VehicleAge',\n",
        " 'VehOdo',\n",
        " 'MMRAcquisitionAuctionAveragePrice',\n",
        " 'MMRAcquisitionAuctionCleanPrice',\n",
        " 'MMRAcquisitionRetailAveragePrice',\n",
        " 'MMRAcquisitonRetailCleanPrice',\n",
        " 'MMRCurrentAuctionAveragePrice',\n",
        " 'MMRCurrentAuctionCleanPrice',\n",
        " 'MMRCurrentRetailAveragePrice',\n",
        " 'MMRCurrentRetailCleanPrice',\n",
        " 'BYRNO',\n",
        " 'VehBCost',\n",
        " 'WarrantyCost']\n",
        "\n",
        "dis_col = list(set(x.columns.to_list())-set(cont_col))"
      ],
      "execution_count": null,
      "outputs": []
    },
    {
      "cell_type": "code",
      "metadata": {
        "colab": {
          "base_uri": "https://localhost:8080/"
        },
        "id": "RiFUYy3tU4Oc",
        "outputId": "f1515fdc-706f-449a-b312-294060fb9b3f"
      },
      "source": [
        "# Basic selection\n",
        "data['VehicleAge'][data['VehicleAge']>3].count()"
      ],
      "execution_count": null,
      "outputs": [
        {
          "output_type": "execute_result",
          "data": {
            "text/plain": [
              "45503"
            ]
          },
          "metadata": {
            "tags": []
          },
          "execution_count": 43
        }
      ]
    },
    {
      "cell_type": "code",
      "metadata": {
        "colab": {
          "base_uri": "https://localhost:8080/"
        },
        "id": "4BNIptnzVjR6",
        "outputId": "6e272f0f-e338-4a10-9a42-7c3bc96e98be"
      },
      "source": [
        "# Or we can do this.\n",
        "data.loc[data['VehicleAge']>3, 'VehicleAge'].count()"
      ],
      "execution_count": null,
      "outputs": [
        {
          "output_type": "execute_result",
          "data": {
            "text/plain": [
              "45503"
            ]
          },
          "metadata": {
            "tags": []
          },
          "execution_count": 10
        }
      ]
    },
    {
      "cell_type": "code",
      "metadata": {
        "colab": {
          "base_uri": "https://localhost:8080/",
          "height": 419
        },
        "id": "S4QaZO2yXFoW",
        "outputId": "f8c96ed1-ebcc-492b-a631-e41ca8c1cfca"
      },
      "source": [
        "# Let us see multiple columns; pay close attention to the syntax\n",
        "data.loc[(data['VehOdo'] > 5000)&(data['VehicleAge']>3), ['VehOdo', 'VehicleAge']]"
      ],
      "execution_count": null,
      "outputs": [
        {
          "output_type": "execute_result",
          "data": {
            "text/html": [
              "<div>\n",
              "<style scoped>\n",
              "    .dataframe tbody tr th:only-of-type {\n",
              "        vertical-align: middle;\n",
              "    }\n",
              "\n",
              "    .dataframe tbody tr th {\n",
              "        vertical-align: top;\n",
              "    }\n",
              "\n",
              "    .dataframe thead th {\n",
              "        text-align: right;\n",
              "    }\n",
              "</style>\n",
              "<table border=\"1\" class=\"dataframe\">\n",
              "  <thead>\n",
              "    <tr style=\"text-align: right;\">\n",
              "      <th></th>\n",
              "      <th>VehOdo</th>\n",
              "      <th>VehicleAge</th>\n",
              "    </tr>\n",
              "  </thead>\n",
              "  <tbody>\n",
              "    <tr>\n",
              "      <th>1</th>\n",
              "      <td>84095</td>\n",
              "      <td>4</td>\n",
              "    </tr>\n",
              "    <tr>\n",
              "      <th>3</th>\n",
              "      <td>73746</td>\n",
              "      <td>6</td>\n",
              "    </tr>\n",
              "    <tr>\n",
              "      <th>4</th>\n",
              "      <td>81897</td>\n",
              "      <td>7</td>\n",
              "    </tr>\n",
              "    <tr>\n",
              "      <th>8</th>\n",
              "      <td>76429</td>\n",
              "      <td>7</td>\n",
              "    </tr>\n",
              "    <tr>\n",
              "      <th>10</th>\n",
              "      <td>73260</td>\n",
              "      <td>6</td>\n",
              "    </tr>\n",
              "    <tr>\n",
              "      <th>...</th>\n",
              "      <td>...</td>\n",
              "      <td>...</td>\n",
              "    </tr>\n",
              "    <tr>\n",
              "      <th>14589</th>\n",
              "      <td>72266</td>\n",
              "      <td>6</td>\n",
              "    </tr>\n",
              "    <tr>\n",
              "      <th>14590</th>\n",
              "      <td>76158</td>\n",
              "      <td>5</td>\n",
              "    </tr>\n",
              "    <tr>\n",
              "      <th>14591</th>\n",
              "      <td>84025</td>\n",
              "      <td>5</td>\n",
              "    </tr>\n",
              "    <tr>\n",
              "      <th>14595</th>\n",
              "      <td>54282</td>\n",
              "      <td>5</td>\n",
              "    </tr>\n",
              "    <tr>\n",
              "      <th>14596</th>\n",
              "      <td>79306</td>\n",
              "      <td>6</td>\n",
              "    </tr>\n",
              "  </tbody>\n",
              "</table>\n",
              "<p>45503 rows × 2 columns</p>\n",
              "</div>"
            ],
            "text/plain": [
              "       VehOdo  VehicleAge\n",
              "1       84095           4\n",
              "3       73746           6\n",
              "4       81897           7\n",
              "8       76429           7\n",
              "10      73260           6\n",
              "...       ...         ...\n",
              "14589   72266           6\n",
              "14590   76158           5\n",
              "14591   84025           5\n",
              "14595   54282           5\n",
              "14596   79306           6\n",
              "\n",
              "[45503 rows x 2 columns]"
            ]
          },
          "metadata": {
            "tags": []
          },
          "execution_count": 11
        }
      ]
    },
    {
      "cell_type": "code",
      "metadata": {
        "colab": {
          "base_uri": "https://localhost:8080/",
          "height": 419
        },
        "id": "v3LjCyZuXYyg",
        "outputId": "9472361e-bd67-41c5-f756-5f1d68ccb55d"
      },
      "source": [
        "# Select by indices\n",
        "data.iloc[0:100, 0:2]"
      ],
      "execution_count": null,
      "outputs": [
        {
          "output_type": "execute_result",
          "data": {
            "text/html": [
              "<div>\n",
              "<style scoped>\n",
              "    .dataframe tbody tr th:only-of-type {\n",
              "        vertical-align: middle;\n",
              "    }\n",
              "\n",
              "    .dataframe tbody tr th {\n",
              "        vertical-align: top;\n",
              "    }\n",
              "\n",
              "    .dataframe thead th {\n",
              "        text-align: right;\n",
              "    }\n",
              "</style>\n",
              "<table border=\"1\" class=\"dataframe\">\n",
              "  <thead>\n",
              "    <tr style=\"text-align: right;\">\n",
              "      <th></th>\n",
              "      <th>VehicleAge</th>\n",
              "      <th>VehOdo</th>\n",
              "    </tr>\n",
              "  </thead>\n",
              "  <tbody>\n",
              "    <tr>\n",
              "      <th>0</th>\n",
              "      <td>2</td>\n",
              "      <td>75645</td>\n",
              "    </tr>\n",
              "    <tr>\n",
              "      <th>1</th>\n",
              "      <td>4</td>\n",
              "      <td>84095</td>\n",
              "    </tr>\n",
              "    <tr>\n",
              "      <th>2</th>\n",
              "      <td>3</td>\n",
              "      <td>51780</td>\n",
              "    </tr>\n",
              "    <tr>\n",
              "      <th>3</th>\n",
              "      <td>6</td>\n",
              "      <td>73746</td>\n",
              "    </tr>\n",
              "    <tr>\n",
              "      <th>4</th>\n",
              "      <td>7</td>\n",
              "      <td>81897</td>\n",
              "    </tr>\n",
              "    <tr>\n",
              "      <th>...</th>\n",
              "      <td>...</td>\n",
              "      <td>...</td>\n",
              "    </tr>\n",
              "    <tr>\n",
              "      <th>95</th>\n",
              "      <td>4</td>\n",
              "      <td>88650</td>\n",
              "    </tr>\n",
              "    <tr>\n",
              "      <th>96</th>\n",
              "      <td>8</td>\n",
              "      <td>86059</td>\n",
              "    </tr>\n",
              "    <tr>\n",
              "      <th>97</th>\n",
              "      <td>9</td>\n",
              "      <td>82417</td>\n",
              "    </tr>\n",
              "    <tr>\n",
              "      <th>98</th>\n",
              "      <td>8</td>\n",
              "      <td>86206</td>\n",
              "    </tr>\n",
              "    <tr>\n",
              "      <th>99</th>\n",
              "      <td>3</td>\n",
              "      <td>60225</td>\n",
              "    </tr>\n",
              "  </tbody>\n",
              "</table>\n",
              "<p>100 rows × 2 columns</p>\n",
              "</div>"
            ],
            "text/plain": [
              "    VehicleAge  VehOdo\n",
              "0            2   75645\n",
              "1            4   84095\n",
              "2            3   51780\n",
              "3            6   73746\n",
              "4            7   81897\n",
              "..         ...     ...\n",
              "95           4   88650\n",
              "96           8   86059\n",
              "97           9   82417\n",
              "98           8   86206\n",
              "99           3   60225\n",
              "\n",
              "[100 rows x 2 columns]"
            ]
          },
          "metadata": {
            "tags": []
          },
          "execution_count": 46
        }
      ]
    },
    {
      "cell_type": "code",
      "metadata": {
        "id": "3rERkfO8XuAH"
      },
      "source": [
        "# This is deprecated! \n",
        "### data.ix[0:10]"
      ],
      "execution_count": null,
      "outputs": []
    },
    {
      "cell_type": "code",
      "metadata": {
        "colab": {
          "base_uri": "https://localhost:8080/"
        },
        "id": "vVP8K8IOYHUA",
        "outputId": "8019d8d3-ac57-49c9-d5c1-60ebd16e29d9"
      },
      "source": [
        "# Map function\n",
        "\n",
        "data.iloc[:, 0].map(lambda x: 0 if x > 10 else 1)\n",
        "data.iloc[:, 0].apply(lambda x: 0 if x > 10 else 1)"
      ],
      "execution_count": null,
      "outputs": [
        {
          "output_type": "execute_result",
          "data": {
            "text/plain": [
              "0        1\n",
              "1        1\n",
              "2        1\n",
              "3        1\n",
              "4        1\n",
              "        ..\n",
              "14592    1\n",
              "14593    1\n",
              "14594    1\n",
              "14595    1\n",
              "14596    1\n",
              "Name: VehicleAge, Length: 72983, dtype: int64"
            ]
          },
          "metadata": {
            "tags": []
          },
          "execution_count": 12
        }
      ]
    },
    {
      "cell_type": "code",
      "metadata": {
        "id": "Z6k71n2aZdxC"
      },
      "source": [
        "# Group-by operations"
      ],
      "execution_count": null,
      "outputs": []
    },
    {
      "cell_type": "code",
      "metadata": {
        "colab": {
          "base_uri": "https://localhost:8080/",
          "height": 142
        },
        "id": "p3WqLXEwbrsk",
        "outputId": "f4e30404-9591-4e55-cd3e-e1fbd0966296"
      },
      "source": [
        "data[['VehicleAge', 'IsBadBuy']].groupby('IsBadBuy', as_index=False).agg('mean')"
      ],
      "execution_count": null,
      "outputs": [
        {
          "output_type": "execute_result",
          "data": {
            "text/html": [
              "<div>\n",
              "<style scoped>\n",
              "    .dataframe tbody tr th:only-of-type {\n",
              "        vertical-align: middle;\n",
              "    }\n",
              "\n",
              "    .dataframe tbody tr th {\n",
              "        vertical-align: top;\n",
              "    }\n",
              "\n",
              "    .dataframe thead th {\n",
              "        text-align: right;\n",
              "    }\n",
              "</style>\n",
              "<table border=\"1\" class=\"dataframe\">\n",
              "  <thead>\n",
              "    <tr style=\"text-align: right;\">\n",
              "      <th></th>\n",
              "      <th>VehicleAge</th>\n",
              "    </tr>\n",
              "    <tr>\n",
              "      <th>IsBadBuy</th>\n",
              "      <th></th>\n",
              "    </tr>\n",
              "  </thead>\n",
              "  <tbody>\n",
              "    <tr>\n",
              "      <th>0</th>\n",
              "      <td>4.069461</td>\n",
              "    </tr>\n",
              "    <tr>\n",
              "      <th>1</th>\n",
              "      <td>4.940954</td>\n",
              "    </tr>\n",
              "  </tbody>\n",
              "</table>\n",
              "</div>"
            ],
            "text/plain": [
              "          VehicleAge\n",
              "IsBadBuy            \n",
              "0           4.069461\n",
              "1           4.940954"
            ]
          },
          "metadata": {
            "tags": []
          },
          "execution_count": 14
        }
      ]
    },
    {
      "cell_type": "code",
      "metadata": {
        "colab": {
          "base_uri": "https://localhost:8080/",
          "height": 173
        },
        "id": "NkwPB_cScDEU",
        "outputId": "b451b598-eb6e-43be-fb6a-24c85a6dd00f"
      },
      "source": [
        "### Pay attention when we want to perform the groupby and aggregation over several ops\n",
        "aggregated = data[['VehicleAge', 'IsBadBuy']].groupby('IsBadBuy', as_index=False).agg(['mean','sum'])\n",
        "aggregated"
      ],
      "execution_count": null,
      "outputs": [
        {
          "output_type": "execute_result",
          "data": {
            "text/html": [
              "<div>\n",
              "<style scoped>\n",
              "    .dataframe tbody tr th:only-of-type {\n",
              "        vertical-align: middle;\n",
              "    }\n",
              "\n",
              "    .dataframe tbody tr th {\n",
              "        vertical-align: top;\n",
              "    }\n",
              "\n",
              "    .dataframe thead tr th {\n",
              "        text-align: left;\n",
              "    }\n",
              "\n",
              "    .dataframe thead tr:last-of-type th {\n",
              "        text-align: right;\n",
              "    }\n",
              "</style>\n",
              "<table border=\"1\" class=\"dataframe\">\n",
              "  <thead>\n",
              "    <tr>\n",
              "      <th></th>\n",
              "      <th colspan=\"2\" halign=\"left\">VehicleAge</th>\n",
              "    </tr>\n",
              "    <tr>\n",
              "      <th></th>\n",
              "      <th>mean</th>\n",
              "      <th>sum</th>\n",
              "    </tr>\n",
              "    <tr>\n",
              "      <th>IsBadBuy</th>\n",
              "      <th></th>\n",
              "      <th></th>\n",
              "    </tr>\n",
              "  </thead>\n",
              "  <tbody>\n",
              "    <tr>\n",
              "      <th>0</th>\n",
              "      <td>4.069461</td>\n",
              "      <td>260474</td>\n",
              "    </tr>\n",
              "    <tr>\n",
              "      <th>1</th>\n",
              "      <td>4.940954</td>\n",
              "      <td>44350</td>\n",
              "    </tr>\n",
              "  </tbody>\n",
              "</table>\n",
              "</div>"
            ],
            "text/plain": [
              "         VehicleAge        \n",
              "               mean     sum\n",
              "IsBadBuy                   \n",
              "0          4.069461  260474\n",
              "1          4.940954   44350"
            ]
          },
          "metadata": {
            "tags": []
          },
          "execution_count": 15
        }
      ]
    },
    {
      "cell_type": "code",
      "metadata": {
        "colab": {
          "base_uri": "https://localhost:8080/"
        },
        "id": "GAk8JoiwdRgy",
        "outputId": "9cca8e0e-a861-4e17-9c4e-56e3d71aba8e"
      },
      "source": [
        "aggregated.columns"
      ],
      "execution_count": null,
      "outputs": [
        {
          "output_type": "execute_result",
          "data": {
            "text/plain": [
              "MultiIndex([('VehicleAge', 'mean'),\n",
              "            ('VehicleAge',  'sum')],\n",
              "           )"
            ]
          },
          "metadata": {
            "tags": []
          },
          "execution_count": 16
        }
      ]
    },
    {
      "cell_type": "code",
      "metadata": {
        "colab": {
          "base_uri": "https://localhost:8080/"
        },
        "id": "y0vEm5biddX5",
        "outputId": "b2d8fff5-e302-4e90-c72b-f0a789c0aa5b"
      },
      "source": [
        "[col[1] for col in aggregated.columns]"
      ],
      "execution_count": null,
      "outputs": [
        {
          "output_type": "execute_result",
          "data": {
            "text/plain": [
              "['mean', 'sum']"
            ]
          },
          "metadata": {
            "tags": []
          },
          "execution_count": 17
        }
      ]
    },
    {
      "cell_type": "code",
      "metadata": {
        "colab": {
          "base_uri": "https://localhost:8080/",
          "height": 173
        },
        "id": "PIzwwhMrdhk4",
        "outputId": "e5e4b7fd-7ac5-46b3-a442-d70fa6f88924"
      },
      "source": [
        "### Custom aggregation functions\n",
        "data[['VehicleAge', 'IsBadBuy']].groupby('IsBadBuy', as_index=False).agg([np.sum, np.mean])"
      ],
      "execution_count": null,
      "outputs": [
        {
          "output_type": "execute_result",
          "data": {
            "text/html": [
              "<div>\n",
              "<style scoped>\n",
              "    .dataframe tbody tr th:only-of-type {\n",
              "        vertical-align: middle;\n",
              "    }\n",
              "\n",
              "    .dataframe tbody tr th {\n",
              "        vertical-align: top;\n",
              "    }\n",
              "\n",
              "    .dataframe thead tr th {\n",
              "        text-align: left;\n",
              "    }\n",
              "\n",
              "    .dataframe thead tr:last-of-type th {\n",
              "        text-align: right;\n",
              "    }\n",
              "</style>\n",
              "<table border=\"1\" class=\"dataframe\">\n",
              "  <thead>\n",
              "    <tr>\n",
              "      <th></th>\n",
              "      <th colspan=\"2\" halign=\"left\">VehicleAge</th>\n",
              "    </tr>\n",
              "    <tr>\n",
              "      <th></th>\n",
              "      <th>sum</th>\n",
              "      <th>mean</th>\n",
              "    </tr>\n",
              "    <tr>\n",
              "      <th>IsBadBuy</th>\n",
              "      <th></th>\n",
              "      <th></th>\n",
              "    </tr>\n",
              "  </thead>\n",
              "  <tbody>\n",
              "    <tr>\n",
              "      <th>0</th>\n",
              "      <td>260474</td>\n",
              "      <td>4.069461</td>\n",
              "    </tr>\n",
              "    <tr>\n",
              "      <th>1</th>\n",
              "      <td>44350</td>\n",
              "      <td>4.940954</td>\n",
              "    </tr>\n",
              "  </tbody>\n",
              "</table>\n",
              "</div>"
            ],
            "text/plain": [
              "         VehicleAge          \n",
              "                sum      mean\n",
              "IsBadBuy                     \n",
              "0            260474  4.069461\n",
              "1             44350  4.940954"
            ]
          },
          "metadata": {
            "tags": []
          },
          "execution_count": 54
        }
      ]
    },
    {
      "cell_type": "markdown",
      "metadata": {
        "id": "rZuIcU0Lwa0r"
      },
      "source": [
        "### Use Joins"
      ]
    },
    {
      "cell_type": "code",
      "metadata": {
        "id": "fiC-YGiAeIap"
      },
      "source": [
        "aggregated = data[['VehicleAge', 'IsBadBuy']].groupby('IsBadBuy', as_index=False).agg('mean')"
      ],
      "execution_count": null,
      "outputs": []
    },
    {
      "cell_type": "code",
      "metadata": {
        "colab": {
          "base_uri": "https://localhost:8080/",
          "height": 111
        },
        "id": "MOZCOlIvIN41",
        "outputId": "927e87d0-4c87-4af6-b631-692a7ee50dee"
      },
      "source": [
        "aggregated"
      ],
      "execution_count": null,
      "outputs": [
        {
          "output_type": "execute_result",
          "data": {
            "text/html": [
              "<div>\n",
              "<style scoped>\n",
              "    .dataframe tbody tr th:only-of-type {\n",
              "        vertical-align: middle;\n",
              "    }\n",
              "\n",
              "    .dataframe tbody tr th {\n",
              "        vertical-align: top;\n",
              "    }\n",
              "\n",
              "    .dataframe thead th {\n",
              "        text-align: right;\n",
              "    }\n",
              "</style>\n",
              "<table border=\"1\" class=\"dataframe\">\n",
              "  <thead>\n",
              "    <tr style=\"text-align: right;\">\n",
              "      <th></th>\n",
              "      <th>IsBadBuy</th>\n",
              "      <th>VehicleAge</th>\n",
              "    </tr>\n",
              "  </thead>\n",
              "  <tbody>\n",
              "    <tr>\n",
              "      <th>0</th>\n",
              "      <td>0</td>\n",
              "      <td>4.069461</td>\n",
              "    </tr>\n",
              "    <tr>\n",
              "      <th>1</th>\n",
              "      <td>1</td>\n",
              "      <td>4.940954</td>\n",
              "    </tr>\n",
              "  </tbody>\n",
              "</table>\n",
              "</div>"
            ],
            "text/plain": [
              "   IsBadBuy  VehicleAge\n",
              "0         0    4.069461\n",
              "1         1    4.940954"
            ]
          },
          "metadata": {
            "tags": []
          },
          "execution_count": 19
        }
      ]
    },
    {
      "cell_type": "code",
      "metadata": {
        "id": "l2-dN8PXwiU7"
      },
      "source": [
        "merge = data.merge(aggregated, how='left', on='IsBadBuy')"
      ],
      "execution_count": null,
      "outputs": []
    },
    {
      "cell_type": "code",
      "metadata": {
        "colab": {
          "base_uri": "https://localhost:8080/",
          "height": 253
        },
        "id": "r0ZRgAI19YLO",
        "outputId": "0fb83013-da07-4f0d-da06-cf9cf9733a1b"
      },
      "source": [
        "merge.head()"
      ],
      "execution_count": null,
      "outputs": [
        {
          "output_type": "execute_result",
          "data": {
            "text/html": [
              "<div>\n",
              "<style scoped>\n",
              "    .dataframe tbody tr th:only-of-type {\n",
              "        vertical-align: middle;\n",
              "    }\n",
              "\n",
              "    .dataframe tbody tr th {\n",
              "        vertical-align: top;\n",
              "    }\n",
              "\n",
              "    .dataframe thead th {\n",
              "        text-align: right;\n",
              "    }\n",
              "</style>\n",
              "<table border=\"1\" class=\"dataframe\">\n",
              "  <thead>\n",
              "    <tr style=\"text-align: right;\">\n",
              "      <th></th>\n",
              "      <th>VehicleAge_x</th>\n",
              "      <th>VehOdo</th>\n",
              "      <th>MMRAcquisitionAuctionAveragePrice</th>\n",
              "      <th>MMRAcquisitionAuctionCleanPrice</th>\n",
              "      <th>MMRAcquisitionRetailAveragePrice</th>\n",
              "      <th>MMRAcquisitonRetailCleanPrice</th>\n",
              "      <th>MMRCurrentAuctionAveragePrice</th>\n",
              "      <th>MMRCurrentAuctionCleanPrice</th>\n",
              "      <th>MMRCurrentRetailAveragePrice</th>\n",
              "      <th>MMRCurrentRetailCleanPrice</th>\n",
              "      <th>BYRNO</th>\n",
              "      <th>VehBCost</th>\n",
              "      <th>IsOnlineSale</th>\n",
              "      <th>WarrantyCost</th>\n",
              "      <th>Auction_ADESA</th>\n",
              "      <th>Auction_MANHEIM</th>\n",
              "      <th>Auction_OTHER</th>\n",
              "      <th>Make_ACURA</th>\n",
              "      <th>Make_BUICK</th>\n",
              "      <th>Make_CADILLAC</th>\n",
              "      <th>Make_CHEVROLET</th>\n",
              "      <th>Make_CHRYSLER</th>\n",
              "      <th>Make_DODGE</th>\n",
              "      <th>Make_FORD</th>\n",
              "      <th>Make_GMC</th>\n",
              "      <th>Make_HONDA</th>\n",
              "      <th>Make_HUMMER</th>\n",
              "      <th>Make_HYUNDAI</th>\n",
              "      <th>Make_INFINITI</th>\n",
              "      <th>Make_ISUZU</th>\n",
              "      <th>Make_JEEP</th>\n",
              "      <th>Make_KIA</th>\n",
              "      <th>Make_LEXUS</th>\n",
              "      <th>Make_LINCOLN</th>\n",
              "      <th>Make_MAZDA</th>\n",
              "      <th>Make_MERCURY</th>\n",
              "      <th>Make_MINI</th>\n",
              "      <th>Make_MITSUBISHI</th>\n",
              "      <th>Make_NISSAN</th>\n",
              "      <th>Make_OLDSMOBILE</th>\n",
              "      <th>...</th>\n",
              "      <th>VNST_AL</th>\n",
              "      <th>VNST_AR</th>\n",
              "      <th>VNST_AZ</th>\n",
              "      <th>VNST_CA</th>\n",
              "      <th>VNST_CO</th>\n",
              "      <th>VNST_FL</th>\n",
              "      <th>VNST_GA</th>\n",
              "      <th>VNST_IA</th>\n",
              "      <th>VNST_ID</th>\n",
              "      <th>VNST_IL</th>\n",
              "      <th>VNST_IN</th>\n",
              "      <th>VNST_KY</th>\n",
              "      <th>VNST_LA</th>\n",
              "      <th>VNST_MA</th>\n",
              "      <th>VNST_MD</th>\n",
              "      <th>VNST_MI</th>\n",
              "      <th>VNST_MN</th>\n",
              "      <th>VNST_MO</th>\n",
              "      <th>VNST_MS</th>\n",
              "      <th>VNST_NC</th>\n",
              "      <th>VNST_NE</th>\n",
              "      <th>VNST_NH</th>\n",
              "      <th>VNST_NJ</th>\n",
              "      <th>VNST_NM</th>\n",
              "      <th>VNST_NV</th>\n",
              "      <th>VNST_NY</th>\n",
              "      <th>VNST_OH</th>\n",
              "      <th>VNST_OK</th>\n",
              "      <th>VNST_OR</th>\n",
              "      <th>VNST_PA</th>\n",
              "      <th>VNST_SC</th>\n",
              "      <th>VNST_TN</th>\n",
              "      <th>VNST_TX</th>\n",
              "      <th>VNST_UT</th>\n",
              "      <th>VNST_VA</th>\n",
              "      <th>VNST_WA</th>\n",
              "      <th>VNST_WI</th>\n",
              "      <th>VNST_WV</th>\n",
              "      <th>IsBadBuy</th>\n",
              "      <th>VehicleAge_y</th>\n",
              "    </tr>\n",
              "  </thead>\n",
              "  <tbody>\n",
              "    <tr>\n",
              "      <th>0</th>\n",
              "      <td>2</td>\n",
              "      <td>75645</td>\n",
              "      <td>8337.0</td>\n",
              "      <td>9645.0</td>\n",
              "      <td>12659.0</td>\n",
              "      <td>13621.0</td>\n",
              "      <td>8201.0</td>\n",
              "      <td>9792.0</td>\n",
              "      <td>12002.0</td>\n",
              "      <td>13607.0</td>\n",
              "      <td>1191</td>\n",
              "      <td>7955.0</td>\n",
              "      <td>1</td>\n",
              "      <td>1272</td>\n",
              "      <td>0</td>\n",
              "      <td>1</td>\n",
              "      <td>0</td>\n",
              "      <td>0</td>\n",
              "      <td>0</td>\n",
              "      <td>0</td>\n",
              "      <td>0</td>\n",
              "      <td>0</td>\n",
              "      <td>0</td>\n",
              "      <td>0</td>\n",
              "      <td>0</td>\n",
              "      <td>0</td>\n",
              "      <td>0</td>\n",
              "      <td>0</td>\n",
              "      <td>0</td>\n",
              "      <td>0</td>\n",
              "      <td>0</td>\n",
              "      <td>0</td>\n",
              "      <td>0</td>\n",
              "      <td>0</td>\n",
              "      <td>0</td>\n",
              "      <td>0</td>\n",
              "      <td>0</td>\n",
              "      <td>0</td>\n",
              "      <td>0</td>\n",
              "      <td>0</td>\n",
              "      <td>...</td>\n",
              "      <td>0</td>\n",
              "      <td>0</td>\n",
              "      <td>0</td>\n",
              "      <td>0</td>\n",
              "      <td>0</td>\n",
              "      <td>0</td>\n",
              "      <td>0</td>\n",
              "      <td>0</td>\n",
              "      <td>0</td>\n",
              "      <td>0</td>\n",
              "      <td>0</td>\n",
              "      <td>0</td>\n",
              "      <td>0</td>\n",
              "      <td>0</td>\n",
              "      <td>0</td>\n",
              "      <td>0</td>\n",
              "      <td>0</td>\n",
              "      <td>0</td>\n",
              "      <td>0</td>\n",
              "      <td>1</td>\n",
              "      <td>0</td>\n",
              "      <td>0</td>\n",
              "      <td>0</td>\n",
              "      <td>0</td>\n",
              "      <td>0</td>\n",
              "      <td>0</td>\n",
              "      <td>0</td>\n",
              "      <td>0</td>\n",
              "      <td>0</td>\n",
              "      <td>0</td>\n",
              "      <td>0</td>\n",
              "      <td>0</td>\n",
              "      <td>0</td>\n",
              "      <td>0</td>\n",
              "      <td>0</td>\n",
              "      <td>0</td>\n",
              "      <td>0</td>\n",
              "      <td>0</td>\n",
              "      <td>0</td>\n",
              "      <td>4.069461</td>\n",
              "    </tr>\n",
              "    <tr>\n",
              "      <th>1</th>\n",
              "      <td>4</td>\n",
              "      <td>84095</td>\n",
              "      <td>8829.0</td>\n",
              "      <td>10387.0</td>\n",
              "      <td>10035.0</td>\n",
              "      <td>11718.0</td>\n",
              "      <td>8987.0</td>\n",
              "      <td>10565.0</td>\n",
              "      <td>10206.0</td>\n",
              "      <td>11910.0</td>\n",
              "      <td>19662</td>\n",
              "      <td>7010.0</td>\n",
              "      <td>0</td>\n",
              "      <td>1633</td>\n",
              "      <td>1</td>\n",
              "      <td>0</td>\n",
              "      <td>0</td>\n",
              "      <td>0</td>\n",
              "      <td>0</td>\n",
              "      <td>0</td>\n",
              "      <td>1</td>\n",
              "      <td>0</td>\n",
              "      <td>0</td>\n",
              "      <td>0</td>\n",
              "      <td>0</td>\n",
              "      <td>0</td>\n",
              "      <td>0</td>\n",
              "      <td>0</td>\n",
              "      <td>0</td>\n",
              "      <td>0</td>\n",
              "      <td>0</td>\n",
              "      <td>0</td>\n",
              "      <td>0</td>\n",
              "      <td>0</td>\n",
              "      <td>0</td>\n",
              "      <td>0</td>\n",
              "      <td>0</td>\n",
              "      <td>0</td>\n",
              "      <td>0</td>\n",
              "      <td>0</td>\n",
              "      <td>...</td>\n",
              "      <td>0</td>\n",
              "      <td>0</td>\n",
              "      <td>0</td>\n",
              "      <td>0</td>\n",
              "      <td>0</td>\n",
              "      <td>0</td>\n",
              "      <td>0</td>\n",
              "      <td>0</td>\n",
              "      <td>0</td>\n",
              "      <td>0</td>\n",
              "      <td>0</td>\n",
              "      <td>0</td>\n",
              "      <td>0</td>\n",
              "      <td>0</td>\n",
              "      <td>0</td>\n",
              "      <td>0</td>\n",
              "      <td>0</td>\n",
              "      <td>0</td>\n",
              "      <td>0</td>\n",
              "      <td>0</td>\n",
              "      <td>0</td>\n",
              "      <td>0</td>\n",
              "      <td>0</td>\n",
              "      <td>0</td>\n",
              "      <td>0</td>\n",
              "      <td>0</td>\n",
              "      <td>0</td>\n",
              "      <td>0</td>\n",
              "      <td>0</td>\n",
              "      <td>0</td>\n",
              "      <td>0</td>\n",
              "      <td>0</td>\n",
              "      <td>1</td>\n",
              "      <td>0</td>\n",
              "      <td>0</td>\n",
              "      <td>0</td>\n",
              "      <td>0</td>\n",
              "      <td>0</td>\n",
              "      <td>0</td>\n",
              "      <td>4.069461</td>\n",
              "    </tr>\n",
              "    <tr>\n",
              "      <th>2</th>\n",
              "      <td>3</td>\n",
              "      <td>51780</td>\n",
              "      <td>6003.0</td>\n",
              "      <td>6904.0</td>\n",
              "      <td>6983.0</td>\n",
              "      <td>7956.0</td>\n",
              "      <td>6517.0</td>\n",
              "      <td>7437.0</td>\n",
              "      <td>7538.0</td>\n",
              "      <td>8532.0</td>\n",
              "      <td>20740</td>\n",
              "      <td>6710.0</td>\n",
              "      <td>0</td>\n",
              "      <td>671</td>\n",
              "      <td>0</td>\n",
              "      <td>1</td>\n",
              "      <td>0</td>\n",
              "      <td>0</td>\n",
              "      <td>0</td>\n",
              "      <td>0</td>\n",
              "      <td>1</td>\n",
              "      <td>0</td>\n",
              "      <td>0</td>\n",
              "      <td>0</td>\n",
              "      <td>0</td>\n",
              "      <td>0</td>\n",
              "      <td>0</td>\n",
              "      <td>0</td>\n",
              "      <td>0</td>\n",
              "      <td>0</td>\n",
              "      <td>0</td>\n",
              "      <td>0</td>\n",
              "      <td>0</td>\n",
              "      <td>0</td>\n",
              "      <td>0</td>\n",
              "      <td>0</td>\n",
              "      <td>0</td>\n",
              "      <td>0</td>\n",
              "      <td>0</td>\n",
              "      <td>0</td>\n",
              "      <td>...</td>\n",
              "      <td>0</td>\n",
              "      <td>0</td>\n",
              "      <td>0</td>\n",
              "      <td>0</td>\n",
              "      <td>0</td>\n",
              "      <td>0</td>\n",
              "      <td>0</td>\n",
              "      <td>0</td>\n",
              "      <td>0</td>\n",
              "      <td>0</td>\n",
              "      <td>0</td>\n",
              "      <td>0</td>\n",
              "      <td>0</td>\n",
              "      <td>0</td>\n",
              "      <td>0</td>\n",
              "      <td>0</td>\n",
              "      <td>0</td>\n",
              "      <td>0</td>\n",
              "      <td>0</td>\n",
              "      <td>0</td>\n",
              "      <td>0</td>\n",
              "      <td>0</td>\n",
              "      <td>0</td>\n",
              "      <td>0</td>\n",
              "      <td>0</td>\n",
              "      <td>0</td>\n",
              "      <td>0</td>\n",
              "      <td>0</td>\n",
              "      <td>0</td>\n",
              "      <td>0</td>\n",
              "      <td>0</td>\n",
              "      <td>0</td>\n",
              "      <td>0</td>\n",
              "      <td>0</td>\n",
              "      <td>1</td>\n",
              "      <td>0</td>\n",
              "      <td>0</td>\n",
              "      <td>0</td>\n",
              "      <td>0</td>\n",
              "      <td>4.069461</td>\n",
              "    </tr>\n",
              "    <tr>\n",
              "      <th>3</th>\n",
              "      <td>6</td>\n",
              "      <td>73746</td>\n",
              "      <td>5438.0</td>\n",
              "      <td>6804.0</td>\n",
              "      <td>8608.0</td>\n",
              "      <td>9687.0</td>\n",
              "      <td>4086.0</td>\n",
              "      <td>5559.0</td>\n",
              "      <td>7708.0</td>\n",
              "      <td>8821.0</td>\n",
              "      <td>21973</td>\n",
              "      <td>6650.0</td>\n",
              "      <td>0</td>\n",
              "      <td>1272</td>\n",
              "      <td>0</td>\n",
              "      <td>1</td>\n",
              "      <td>0</td>\n",
              "      <td>0</td>\n",
              "      <td>0</td>\n",
              "      <td>0</td>\n",
              "      <td>0</td>\n",
              "      <td>1</td>\n",
              "      <td>0</td>\n",
              "      <td>0</td>\n",
              "      <td>0</td>\n",
              "      <td>0</td>\n",
              "      <td>0</td>\n",
              "      <td>0</td>\n",
              "      <td>0</td>\n",
              "      <td>0</td>\n",
              "      <td>0</td>\n",
              "      <td>0</td>\n",
              "      <td>0</td>\n",
              "      <td>0</td>\n",
              "      <td>0</td>\n",
              "      <td>0</td>\n",
              "      <td>0</td>\n",
              "      <td>0</td>\n",
              "      <td>0</td>\n",
              "      <td>0</td>\n",
              "      <td>...</td>\n",
              "      <td>0</td>\n",
              "      <td>0</td>\n",
              "      <td>0</td>\n",
              "      <td>0</td>\n",
              "      <td>0</td>\n",
              "      <td>1</td>\n",
              "      <td>0</td>\n",
              "      <td>0</td>\n",
              "      <td>0</td>\n",
              "      <td>0</td>\n",
              "      <td>0</td>\n",
              "      <td>0</td>\n",
              "      <td>0</td>\n",
              "      <td>0</td>\n",
              "      <td>0</td>\n",
              "      <td>0</td>\n",
              "      <td>0</td>\n",
              "      <td>0</td>\n",
              "      <td>0</td>\n",
              "      <td>0</td>\n",
              "      <td>0</td>\n",
              "      <td>0</td>\n",
              "      <td>0</td>\n",
              "      <td>0</td>\n",
              "      <td>0</td>\n",
              "      <td>0</td>\n",
              "      <td>0</td>\n",
              "      <td>0</td>\n",
              "      <td>0</td>\n",
              "      <td>0</td>\n",
              "      <td>0</td>\n",
              "      <td>0</td>\n",
              "      <td>0</td>\n",
              "      <td>0</td>\n",
              "      <td>0</td>\n",
              "      <td>0</td>\n",
              "      <td>0</td>\n",
              "      <td>0</td>\n",
              "      <td>0</td>\n",
              "      <td>4.069461</td>\n",
              "    </tr>\n",
              "    <tr>\n",
              "      <th>4</th>\n",
              "      <td>7</td>\n",
              "      <td>81897</td>\n",
              "      <td>1911.0</td>\n",
              "      <td>2753.0</td>\n",
              "      <td>2564.0</td>\n",
              "      <td>3473.0</td>\n",
              "      <td>1367.0</td>\n",
              "      <td>2128.0</td>\n",
              "      <td>1976.0</td>\n",
              "      <td>2798.0</td>\n",
              "      <td>18880</td>\n",
              "      <td>4100.0</td>\n",
              "      <td>0</td>\n",
              "      <td>1543</td>\n",
              "      <td>0</td>\n",
              "      <td>0</td>\n",
              "      <td>1</td>\n",
              "      <td>0</td>\n",
              "      <td>0</td>\n",
              "      <td>0</td>\n",
              "      <td>1</td>\n",
              "      <td>0</td>\n",
              "      <td>0</td>\n",
              "      <td>0</td>\n",
              "      <td>0</td>\n",
              "      <td>0</td>\n",
              "      <td>0</td>\n",
              "      <td>0</td>\n",
              "      <td>0</td>\n",
              "      <td>0</td>\n",
              "      <td>0</td>\n",
              "      <td>0</td>\n",
              "      <td>0</td>\n",
              "      <td>0</td>\n",
              "      <td>0</td>\n",
              "      <td>0</td>\n",
              "      <td>0</td>\n",
              "      <td>0</td>\n",
              "      <td>0</td>\n",
              "      <td>0</td>\n",
              "      <td>...</td>\n",
              "      <td>0</td>\n",
              "      <td>0</td>\n",
              "      <td>0</td>\n",
              "      <td>0</td>\n",
              "      <td>0</td>\n",
              "      <td>0</td>\n",
              "      <td>0</td>\n",
              "      <td>0</td>\n",
              "      <td>0</td>\n",
              "      <td>0</td>\n",
              "      <td>0</td>\n",
              "      <td>0</td>\n",
              "      <td>0</td>\n",
              "      <td>0</td>\n",
              "      <td>0</td>\n",
              "      <td>0</td>\n",
              "      <td>0</td>\n",
              "      <td>0</td>\n",
              "      <td>0</td>\n",
              "      <td>0</td>\n",
              "      <td>0</td>\n",
              "      <td>0</td>\n",
              "      <td>0</td>\n",
              "      <td>0</td>\n",
              "      <td>0</td>\n",
              "      <td>0</td>\n",
              "      <td>0</td>\n",
              "      <td>0</td>\n",
              "      <td>0</td>\n",
              "      <td>0</td>\n",
              "      <td>1</td>\n",
              "      <td>0</td>\n",
              "      <td>0</td>\n",
              "      <td>0</td>\n",
              "      <td>0</td>\n",
              "      <td>0</td>\n",
              "      <td>0</td>\n",
              "      <td>0</td>\n",
              "      <td>0</td>\n",
              "      <td>4.069461</td>\n",
              "    </tr>\n",
              "  </tbody>\n",
              "</table>\n",
              "<p>5 rows × 146 columns</p>\n",
              "</div>"
            ],
            "text/plain": [
              "   VehicleAge_x  VehOdo  ...  IsBadBuy  VehicleAge_y\n",
              "0             2   75645  ...         0      4.069461\n",
              "1             4   84095  ...         0      4.069461\n",
              "2             3   51780  ...         0      4.069461\n",
              "3             6   73746  ...         0      4.069461\n",
              "4             7   81897  ...         0      4.069461\n",
              "\n",
              "[5 rows x 146 columns]"
            ]
          },
          "metadata": {
            "tags": []
          },
          "execution_count": 84
        }
      ]
    },
    {
      "cell_type": "markdown",
      "metadata": {
        "id": "ToKJyz5Feia8"
      },
      "source": [
        "## Plotting with Matplotlib\n",
        "---\n",
        "Let us use `matplotlib` to draw some commonly used graphs, such as Line Chart, scatter plots, histograms, box plots,"
      ]
    },
    {
      "cell_type": "code",
      "metadata": {
        "colab": {
          "base_uri": "https://localhost:8080/"
        },
        "id": "LxU5O2CmekVu",
        "outputId": "3786783a-dee4-4876-b0dc-e33db291863e"
      },
      "source": [
        "!pip install matplotlib"
      ],
      "execution_count": null,
      "outputs": [
        {
          "output_type": "stream",
          "text": [
            "Requirement already satisfied: matplotlib in /usr/local/lib/python3.6/dist-packages (3.2.2)\n",
            "Requirement already satisfied: python-dateutil>=2.1 in /usr/local/lib/python3.6/dist-packages (from matplotlib) (2.8.1)\n",
            "Requirement already satisfied: kiwisolver>=1.0.1 in /usr/local/lib/python3.6/dist-packages (from matplotlib) (1.3.1)\n",
            "Requirement already satisfied: numpy>=1.11 in /usr/local/lib/python3.6/dist-packages (from matplotlib) (1.19.4)\n",
            "Requirement already satisfied: cycler>=0.10 in /usr/local/lib/python3.6/dist-packages (from matplotlib) (0.10.0)\n",
            "Requirement already satisfied: pyparsing!=2.0.4,!=2.1.2,!=2.1.6,>=2.0.1 in /usr/local/lib/python3.6/dist-packages (from matplotlib) (2.4.7)\n",
            "Requirement already satisfied: six>=1.5 in /usr/local/lib/python3.6/dist-packages (from python-dateutil>=2.1->matplotlib) (1.15.0)\n"
          ],
          "name": "stdout"
        }
      ]
    },
    {
      "cell_type": "markdown",
      "metadata": {
        "id": "t3GlshtkxOtR"
      },
      "source": [
        "### Linechart"
      ]
    },
    {
      "cell_type": "code",
      "metadata": {
        "colab": {
          "base_uri": "https://localhost:8080/",
          "height": 265
        },
        "id": "4FNklFQExQ6e",
        "outputId": "7bdf18a6-5f96-45e6-c5e9-024837c22b95"
      },
      "source": [
        "import matplotlib.pyplot as plt\n",
        "import numpy as np\n",
        "\n",
        "x_axis = [1, 2, 3, 4]\n",
        "y_axis = [1, 4, 9, 16]\n",
        "plt.plot(x_axis,y_axis)\n",
        "plt.show()"
      ],
      "execution_count": null,
      "outputs": [
        {
          "output_type": "display_data",
          "data": {
            "image/png": "[encoded data removed]",
            "text/plain": [
              "<Figure size 432x288 with 1 Axes>"
            ]
          },
          "metadata": {
            "tags": []
          }
        }
      ]
    },
    {
      "cell_type": "markdown",
      "metadata": {
        "id": "cMQ3UhV7xVep"
      },
      "source": [
        "Scatter plot"
      ]
    },
    {
      "cell_type": "code",
      "metadata": {
        "colab": {
          "base_uri": "https://localhost:8080/",
          "height": 265
        },
        "id": "rjoFeD0pxYPr",
        "outputId": "c0f3ce9b-98b2-4cf3-a132-dc75a773b913"
      },
      "source": [
        "x_axis = [1, 2, 3, 4]\n",
        "y_axis = [1, 4, 9, 16]\n",
        "plt.scatter(x_axis,y_axis)\n",
        "plt.show()"
      ],
      "execution_count": null,
      "outputs": [
        {
          "output_type": "display_data",
          "data": {
            "image/png": "[encoded data removed]",
            "text/plain": [
              "<Figure size 432x288 with 1 Axes>"
            ]
          },
          "metadata": {
            "tags": []
          }
        }
      ]
    },
    {
      "cell_type": "markdown",
      "metadata": {
        "id": "uHWOx43UxgVR"
      },
      "source": [
        "### Histograms"
      ]
    },
    {
      "cell_type": "code",
      "metadata": {
        "colab": {
          "base_uri": "https://localhost:8080/",
          "height": 266
        },
        "id": "TA_uF2V1xdtg",
        "outputId": "9d629336-fbb8-455d-8922-4a8dc4cf65ec"
      },
      "source": [
        "x_axis = ['group_a', 'group_b', 'group_c']\n",
        "y_axis = [1, 10, 100]\n",
        "\n",
        "plt.bar(x_axis, y_axis)\n",
        "plt.show()"
      ],
      "execution_count": null,
      "outputs": [
        {
          "output_type": "display_data",
          "data": {
            "image/png": "[encoded data removed]",
            "text/plain": [
              "<Figure size 432x288 with 1 Axes>"
            ]
          },
          "metadata": {
            "tags": []
          }
        }
      ]
    },
    {
      "cell_type": "markdown",
      "metadata": {
        "id": "Edc5nD3Axwux"
      },
      "source": [
        "### Boxplot"
      ]
    },
    {
      "cell_type": "code",
      "metadata": {
        "colab": {
          "base_uri": "https://localhost:8080/",
          "height": 265
        },
        "id": "937kBkuIxyud",
        "outputId": "db9534ac-b5fe-4b7b-89dd-96caef05777c"
      },
      "source": [
        "datas = [np.random.normal(0,std,100) for std in range(1,4)]\n",
        "\n",
        "plt.boxplot(datas) \n",
        "plt.show()"
      ],
      "execution_count": null,
      "outputs": [
        {
          "output_type": "display_data",
          "data": {
            "image/png": "[encoded data removed]",
            "text/plain": [
              "<Figure size 432x288 with 1 Axes>"
            ]
          },
          "metadata": {
            "tags": []
          }
        }
      ]
    },
    {
      "cell_type": "markdown",
      "metadata": {
        "id": "GWMUISbZepvo"
      },
      "source": [
        "## Generating Features\n",
        "\n",
        "---\n",
        "1. By meaning.\n",
        "2. Common encoders. \n",
        "3. EDA and bad case analysis. \n"
      ]
    },
    {
      "cell_type": "markdown",
      "metadata": {
        "id": "7CUbyybyyAdE"
      },
      "source": [
        "## By meaning\n",
        "\n",
        "---\n",
        "There is no such thing as a gaurrenteed approach to feature engineering. However, this is what I like to do.\n",
        "\n",
        "1. Find as many as features as possible. \n",
        "2. Look into the features and see whether they can be grouped. Find as many as ways to classify these features as possible.\n",
        "3. Look into the opposite of classifications and see whether we can create features.\n",
        "\n",
        "*Let us try with the data dictionary*"
      ]
    },
    {
      "cell_type": "markdown",
      "metadata": {
        "id": "h1VtT6q4zFz_"
      },
      "source": [
        "## Common encoders\n",
        "\n",
        "---\n",
        "There are many commonly used encoders. Based on the characteristics of the data. They can be grouped into several category.\n",
        "\n",
        "1. Continuous variables. The result is either a continuous variable or a discrete one.\n",
        "2. Discrete variables. This is the most interesting one. \n",
        "3. Continuous and discrete. Basically groupby operations.\n",
        "4. Discrete and discrete. Interactions. "
      ]
    },
    {
      "cell_type": "markdown",
      "metadata": {
        "id": "2ITib-vqzr7R"
      },
      "source": [
        "## EDA and Badcase Analysis\n",
        "\n",
        "---\n",
        "There are quite a lot of things one can see from data. The most important thing is to find \"weird\" things that should not be there, thus inferring the properties of the dataset. \n",
        "\n",
        "EDA, however, has a huge problem. It is essentially impossible to visualize multiple dimensions. That is to say it is very difficult to find interactions. \n",
        "\n",
        "Therefore, bad case analysis might be more benificial. SHAP values might help you explain what the model thinks (for an intro, see [here](https://towardsdatascience.com/explain-your-model-with-the-shap-values-bc36aac4de3d)). We will not delve into too much details here. "
      ]
    },
    {
      "cell_type": "markdown",
      "metadata": {
        "id": "MJU3SxO-fGjp"
      },
      "source": [
        "## TreeBased Models  \n",
        "\n",
        "---\n",
        "In this example, we use lightgbm as the tree model of choice."
      ]
    },
    {
      "cell_type": "code",
      "metadata": {
        "id": "tWEKOv0peoNj"
      },
      "source": [
        "train = data.iloc[:TRAIN_IDX, :]\n",
        "test = data.iloc[TRAIN_IDX:TEST_IDX, :]"
      ],
      "execution_count": null,
      "outputs": []
    },
    {
      "cell_type": "code",
      "metadata": {
        "id": "XL0FibSQ2kxa"
      },
      "source": [
        "import lightgbm as lgb\n",
        "train_dataset = lgb.Dataset(train.drop(columns='IsBadBuy'), train['IsBadBuy'])\n",
        "test_dataset = lgb.Dataset(test.drop(columns='IsBadBuy'), test['IsBadBuy'])"
      ],
      "execution_count": null,
      "outputs": []
    },
    {
      "cell_type": "code",
      "metadata": {
        "id": "fkpnHn_S3BGV"
      },
      "source": [
        "param = {'num_leaves': 31, 'objective': 'binary', 'metric':'binary_error'}\n",
        "num_round = 2000"
      ],
      "execution_count": null,
      "outputs": []
    },
    {
      "cell_type": "code",
      "metadata": {
        "id": "PtLIAW9R3IKt"
      },
      "source": [
        "model = lgb.train(param, train_dataset, num_boost_round=num_round, valid_sets=[train_dataset, test_dataset])"
      ],
      "execution_count": null,
      "outputs": []
    },
    {
      "cell_type": "markdown",
      "metadata": {
        "id": "auwWD3H63XH8"
      },
      "source": [
        "## A Wrapper"
      ]
    },
    {
      "cell_type": "code",
      "metadata": {
        "id": "pk8phvUz3Lkk"
      },
      "source": [
        "import io\n",
        "import multiprocessing\n",
        "from contextlib import redirect_stdout\n",
        "from copy import deepcopy\n",
        "from dataclasses import dataclass, asdict\n",
        "import hyperopt.pyll\n",
        "from hyperopt import fmin, tpe, hp\n",
        "import numpy as np\n",
        "import lightgbm as lgb\n",
        "from sklearn.metrics import accuracy_score\n",
        "from sklearn.metrics import f1_score\n",
        "from sklearn.metrics import precision_score\n",
        "from sklearn.metrics import recall_score\n",
        "from sklearn.metrics import roc_auc_score\n",
        "import torch\n",
        "\n",
        "import copy\n",
        "cpu_count = 4\n",
        "use_gpu = False\n",
        "@dataclass\n",
        "class LGBOpt:\n",
        "    num_threads: any = hp.choice('num_threads', [cpu_count])\n",
        "    num_leaves: any = hp.choice('num_leaves', [64])\n",
        "    metric: any = hp.choice('metric', ['binary_error'])\n",
        "    num_round: any = hp.choice('num_rounds', [1000])\n",
        "    objective: any = hp.choice('objective', ['binary'])\n",
        "    learning_rate: any = hp.uniform('learning_rate', 0.01, 0.1)\n",
        "    feature_fraction: any = hp.uniform('feature_fraction', 0.5, 1.0)\n",
        "    bagging_fraction: any = hp.uniform('bagging_fraction', 0.8, 1.0)\n",
        "    device_type: any = hp.choice('device_tpye', ['gpu']) if use_gpu else hp.choice('device_type',\n",
        "                                                                                   ['cpu'])\n",
        "    boosting: any = hp.choice('boosting', ['gbdt', 'dart', 'goss'])\n",
        "    extra_trees: any = hp.choice('extra_tress', [False, True])\n",
        "    drop_rate: any = hp.uniform('drop_rate', 0, 0.2)\n",
        "    uniform_drop: any = hp.choice('uniform_drop', [True, False])\n",
        "    lambda_l1: any = hp.uniform('lambda_l1', 0, 10)  # TODO: Check range\n",
        "    lambda_l2: any = hp.uniform('lambda_l2', 0, 10)  # TODO: Check range\n",
        "    min_gain_to_split: any = hp.uniform('min_gain_to_split', 0, 1)  # TODO: Check range\n",
        "    min_data_in_bin = hp.choice('min_data_in_bin', [3, 5, 10, 15, 20, 50])\n",
        "\n",
        "    @staticmethod\n",
        "    def get_common_params():\n",
        "        return {'num_thread': 4, 'num_leaves': 12, 'metric': 'binary', 'objective': 'binary',\n",
        "                'num_round': 1000, 'learning_rate': 0.01, 'feature_fraction': 0.8, 'bagging_fraction': 0.8}\n",
        "    "
      ],
      "execution_count": null,
      "outputs": []
    },
    {
      "cell_type": "code",
      "metadata": {
        "id": "64owMInt3Y_G"
      },
      "source": [
        "class FitterBase(object):\n",
        "    def __init__(self, label, metric, max_eval=100, opt=None):\n",
        "        self.label = label\n",
        "        self.metric = metric\n",
        "        self.opt_params = dict()\n",
        "        self.max_eval = max_eval\n",
        "        self.opt = opt\n",
        "\n",
        "    def get_loss(self, y, y_pred):\n",
        "        if self.metric == 'error':\n",
        "            return 1 - accuracy_score(y, y_pred)\n",
        "        elif self.metric == 'precision':\n",
        "            return 1 - precision_score(y, y_pred)\n",
        "        elif self.metric == 'recall':\n",
        "            return 1 - recall_score(y, y_pred)\n",
        "        elif self.metric == 'macro_f1':\n",
        "            return 1 - f1_score(y, y_pred, average='macro')\n",
        "        elif self.metric == 'micro_f1':\n",
        "            return 1 - f1_score(y, y_pred, average='micro')\n",
        "        elif self.metric == 'auc':  # TODO: Add a warning checking if y_predict is all [0, 1], it should be probability\n",
        "            return 1 - roc_auc_score(y, y_pred)\n",
        "        else:\n",
        "            raise Exception(\"Not implemented yet.\")\n"
      ],
      "execution_count": null,
      "outputs": []
    },
    {
      "cell_type": "code",
      "metadata": {
        "id": "EXkcB_jI3erG"
      },
      "source": [
        "class LGBFitter(FitterBase):\n",
        "    def __init__(self, label='label', metric='error', opt: LGBOpt = None, max_eval=100):\n",
        "        super(LGBFitter, self).__init__(label, metric, max_eval)\n",
        "        if opt is not None:\n",
        "            self.opt = opt\n",
        "        else:\n",
        "            self.opt = LGBOpt()\n",
        "        self.best_round = None\n",
        "        self.clf = None\n",
        "\n",
        "    def train(self, train_df, eval_df, params=None, use_best_eval=True):\n",
        "        self.best_round = None\n",
        "        dtrain = lgb.Dataset(train_df.drop(columns=[self.label]), train_df[self.label])\n",
        "        deval = lgb.Dataset(eval_df.drop(columns=[self.label]), eval_df[self.label])\n",
        "        evallist = [dtrain, deval]\n",
        "        if params is None:\n",
        "            use_params = deepcopy(self.opt_params)\n",
        "        else:\n",
        "            use_params = deepcopy(params)\n",
        "\n",
        "        num_round = use_params.pop('num_round')\n",
        "        if use_best_eval:\n",
        "            with io.StringIO() as buf, redirect_stdout(buf):\n",
        "                self.clf = lgb.train(use_params, dtrain, num_round, valid_sets=evallist)\n",
        "                output = buf.getvalue().split(\"\\n\")\n",
        "            min_error = np.inf\n",
        "            min_index = 0\n",
        "            for idx in range(len(output) - 1):\n",
        "                if len(output[idx].split(\"\\t\")) == 3:\n",
        "                    temp = float(output[idx].split(\"\\t\")[2].split(\":\")[1])\n",
        "                    if min_error > temp:\n",
        "                        min_error = temp\n",
        "                        min_index = int(output[idx].split(\"\\t\")[0][1:-1])\n",
        "            print(\"The minimum is attained in round %d\" % (min_index + 1))\n",
        "            self.best_round = min_index + 1\n",
        "            return output\n",
        "        else:\n",
        "            with io.StringIO() as buf, redirect_stdout(buf):\n",
        "                self.clf = lgb.train(use_params, dtrain, num_round, valid_sets=evallist)\n",
        "                output = buf.getvalue().split(\"\\n\")\n",
        "            self.best_round = num_round\n",
        "            return output\n",
        "\n",
        "    def search(self, train_df, eval_df, use_best_eval=True):\n",
        "        self.opt_params = dict()\n",
        "\n",
        "        def train_impl(params):\n",
        "            self.train(train_df, eval_df, params, use_best_eval)\n",
        "            if self.metric == 'auc':\n",
        "                y_pred = self.clf.predict(eval_df.drop(columns=[self.label]), num_iteration=self.best_round)\n",
        "            else:\n",
        "                y_pred = (self.clf.predict(eval_df.drop(columns=[self.label]),\n",
        "                                           num_iteration=self.best_round) > 0.5).astype(int)\n",
        "            return self.get_loss(eval_df[self.label], y_pred)\n",
        "\n",
        "        self.opt_params = fmin(train_impl, asdict(self.opt), algo=tpe.suggest, max_evals=self.max_eval)\n",
        "\n",
        "    def search_k_fold(self, k_fold, data, use_best_eval=True):\n",
        "        self.opt_params = dict()\n",
        "\n",
        "        def train_impl_nfold(params):\n",
        "            loss = list()\n",
        "            for train_id, eval_id in k_fold.split(data):\n",
        "                train_df = data.loc[train_id]\n",
        "                eval_df = data.loc[eval_id]\n",
        "                self.train(train_df, eval_df, params, use_best_eval)\n",
        "                if self.metric == 'auc':\n",
        "                    y_pred = self.clf.predict(eval_df.drop(columns=[self.label]), num_iteration=self.best_round)\n",
        "                else:\n",
        "                    y_pred = (self.clf.predict(eval_df.drop(columns=[self.label]),\n",
        "                                               num_iteration=self.best_round) > 0.5).astype(int)\n",
        "                loss.append(self.get_loss(eval_df[self.label], y_pred))\n",
        "            return np.mean(loss)\n",
        "\n",
        "        self.opt_params = fmin(train_impl_nfold, asdict(self.opt), algo=tpe.suggest, max_evals=self.max_eval)\n",
        "\n",
        "    def train_k_fold(self, k_fold, train_data, test_data, params=None, drop_test_y=True, use_best_eval=True):\n",
        "        acc_result = list()\n",
        "        train_pred = np.empty(train_data.shape[0])\n",
        "        test_pred = np.empty(test_data.shape[0])\n",
        "        if drop_test_y:\n",
        "            dtest = test_data.drop(columns=self.label)\n",
        "        else:\n",
        "            dtest = test_data\n",
        "\n",
        "        models = list()\n",
        "        for train_id, eval_id in k_fold.split(train_data):\n",
        "            train_df = train_data.loc[train_id]\n",
        "            eval_df = train_data.loc[eval_id]\n",
        "            self.train(train_df, eval_df, params, use_best_eval)\n",
        "            models.append(copy.deepcopy(self.clf))\n",
        "            train_pred[eval_id] = self.clf.predict(eval_df.drop(columns=self.label), num_iteration=self.best_round)\n",
        "            if self.metric == 'auc':\n",
        "                y_pred = self.clf.predict(eval_df.drop(columns=[self.label]), num_iteration=self.best_round)\n",
        "            else:\n",
        "                y_pred = (self.clf.predict(eval_df.drop(columns=[self.label]),\n",
        "                                           num_iteration=self.best_round) > 0.5).astype(int)\n",
        "            acc_result.append(self.get_loss(eval_df[self.label], y_pred))\n",
        "            test_pred += self.clf.predict(dtest, num_iteration=self.best_round)\n",
        "        test_pred /= k_fold.n_splits\n",
        "        return train_pred, test_pred, acc_result, models"
      ],
      "execution_count": null,
      "outputs": []
    },
    {
      "cell_type": "code",
      "metadata": {
        "id": "l47zt7ma3nkw"
      },
      "source": [
        "fitter = LGBFitter(label='IsBadBuy')"
      ],
      "execution_count": null,
      "outputs": []
    },
    {
      "cell_type": "code",
      "metadata": {
        "id": "lcCNFu453z9r"
      },
      "source": [
        "params = {'num_thread': 4, 'num_leaves': 12, 'metric': 'binary', 'objective': 'binary',\n",
        "                'num_round': 2000, 'learning_rate': 0.02, 'feature_fraction': 0.8, 'bagging_fraction': 0.8}"
      ],
      "execution_count": null,
      "outputs": []
    },
    {
      "cell_type": "code",
      "metadata": {
        "id": "V2YnD1xI32ef"
      },
      "source": [
        "from sklearn.model_selection import KFold\n",
        "kfold = KFold(n_splits=5)"
      ],
      "execution_count": null,
      "outputs": []
    },
    {
      "cell_type": "code",
      "metadata": {
        "colab": {
          "base_uri": "https://localhost:8080/"
        },
        "id": "Gb6hAxDh34Wy",
        "outputId": "73df51e4-aac1-4470-e0dc-18a94914f611"
      },
      "source": [
        "fitter.train_k_fold(kfold, train, test, params = params)"
      ],
      "execution_count": null,
      "outputs": [
        {
          "output_type": "stream",
          "text": [
            "The minimum is attained in round 1602\n",
            "The minimum is attained in round 1586\n",
            "The minimum is attained in round 1252\n",
            "The minimum is attained in round 1342\n",
            "The minimum is attained in round 1549\n"
          ],
          "name": "stdout"
        },
        {
          "output_type": "execute_result",
          "data": {
            "text/plain": [
              "(array([0.03903925, 0.09390149, 0.06374577, ..., 0.04602956, 0.02993701,\n",
              "        0.05449825]),\n",
              " array([0.15573416, 0.11875246, 0.0132512 , ..., 0.11031787, 0.07840101,\n",
              "        0.14609521]),\n",
              " [0.10224353485185822,\n",
              "  0.09694270788729986,\n",
              "  0.09788473066712344,\n",
              "  0.1022522908281237,\n",
              "  0.09994005309582943],\n",
              " [<lightgbm.basic.Booster at 0x7f4daff3a390>,\n",
              "  <lightgbm.basic.Booster at 0x7f4daff3a860>,\n",
              "  <lightgbm.basic.Booster at 0x7f4dfebab400>,\n",
              "  <lightgbm.basic.Booster at 0x7f4daff3aac8>,\n",
              "  <lightgbm.basic.Booster at 0x7f4dfebab198>])"
            ]
          },
          "metadata": {
            "tags": []
          },
          "execution_count": 82
        }
      ]
    }
  ]
}