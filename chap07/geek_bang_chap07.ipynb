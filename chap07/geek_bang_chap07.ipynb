{
  "nbformat": 4,
  "nbformat_minor": 0,
  "metadata": {
    "colab": {
      "name": "geek_bang_chap07.ipynb",
      "provenance": []
    },
    "kernelspec": {
      "name": "python3",
      "display_name": "Python 3"
    }
  },
  "cells": [
    {
      "cell_type": "markdown",
      "metadata": {
        "id": "E3VvpUDTeuZg"
      },
      "source": [
        "# Learning a Bayesian Network\n"
      ]
    },
    {
      "cell_type": "code",
      "metadata": {
        "colab": {
          "base_uri": "https://localhost:8080/"
        },
        "id": "oEaFMU24cPo7",
        "outputId": "152560fa-f7ea-47e5-ed6d-5456677af8ee"
      },
      "source": [
        "%load_ext rpy2.ipython"
      ],
      "execution_count": null,
      "outputs": [
        {
          "output_type": "stream",
          "text": [
            "/usr/local/lib/python3.7/dist-packages/rpy2/robjects/pandas2ri.py:14: FutureWarning: pandas.core.index is deprecated and will be removed in a future version.  The public classes are available in the top-level namespace.\n",
            "  from pandas.core.index import Index as PandasIndex\n",
            "/usr/local/lib/python3.7/dist-packages/rpy2/robjects/pandas2ri.py:34: UserWarning: pandas >= 1.0 is not supported.\n",
            "  warnings.warn('pandas >= 1.0 is not supported.')\n"
          ],
          "name": "stderr"
        }
      ]
    },
    {
      "cell_type": "code",
      "metadata": {
        "id": "0RWfNi0ecS5i"
      },
      "source": [
        "%%R\n",
        "install.packages(\"bnlearn\")"
      ],
      "execution_count": null,
      "outputs": []
    },
    {
      "cell_type": "code",
      "metadata": {
        "id": "ziXd29IXchw2"
      },
      "source": [
        "%%R\n",
        "library(bnlearn)"
      ],
      "execution_count": null,
      "outputs": []
    },
    {
      "cell_type": "code",
      "metadata": {
        "id": "x8KmSpQpdEkf"
      },
      "source": [
        "%%R\n",
        "data(marks)"
      ],
      "execution_count": null,
      "outputs": []
    },
    {
      "cell_type": "code",
      "metadata": {
        "colab": {
          "base_uri": "https://localhost:8080/"
        },
        "id": "tex3LJage5Zv",
        "outputId": "1542b4c3-92b2-4e10-902e-72d4a31d47ac"
      },
      "source": [
        "%%R\n",
        "summary(marks)"
      ],
      "execution_count": null,
      "outputs": [
        {
          "output_type": "stream",
          "text": [
            "      MECH            VECT            ALG             ANL       \n",
            " Min.   : 0.00   Min.   : 9.00   Min.   :15.00   Min.   : 9.00  \n",
            " 1st Qu.:30.00   1st Qu.:42.00   1st Qu.:45.00   1st Qu.:35.75  \n",
            " Median :41.50   Median :51.00   Median :50.00   Median :49.00  \n",
            " Mean   :38.95   Mean   :50.59   Mean   :50.60   Mean   :46.68  \n",
            " 3rd Qu.:49.25   3rd Qu.:60.00   3rd Qu.:57.25   3rd Qu.:57.00  \n",
            " Max.   :77.00   Max.   :82.00   Max.   :80.00   Max.   :70.00  \n",
            "      STAT      \n",
            " Min.   : 9.00  \n",
            " 1st Qu.:31.00  \n",
            " Median :40.00  \n",
            " Mean   :42.31  \n",
            " 3rd Qu.:51.50  \n",
            " Max.   :81.00  \n"
          ],
          "name": "stdout"
        }
      ]
    },
    {
      "cell_type": "code",
      "metadata": {
        "id": "rGwgxHjAe9Gz"
      },
      "source": [
        "%%R\n",
        "bn.gs = gs(marks)"
      ],
      "execution_count": null,
      "outputs": []
    },
    {
      "cell_type": "code",
      "metadata": {
        "colab": {
          "base_uri": "https://localhost:8080/"
        },
        "id": "CElHBKqbftJU",
        "outputId": "deae9a72-f999-4a7e-8ce9-97810deda8dc"
      },
      "source": [
        "%%R\n",
        "bn.gs"
      ],
      "execution_count": null,
      "outputs": [
        {
          "output_type": "stream",
          "text": [
            "\n",
            "  Bayesian network learned via Constraint-based methods\n",
            "\n",
            "  model:\n",
            "    [undirected graph]\n",
            "  nodes:                                 5 \n",
            "  arcs:                                  6 \n",
            "    undirected arcs:                     6 \n",
            "    directed arcs:                       0 \n",
            "  average markov blanket size:           2.40 \n",
            "  average neighbourhood size:            2.40 \n",
            "  average branching factor:              0.00 \n",
            "\n",
            "  learning algorithm:                    Grow-Shrink \n",
            "  conditional independence test:         Pearson's Correlation \n",
            "  alpha threshold:                       0.05 \n",
            "  tests used in the learning procedure:  80 \n",
            "\n"
          ],
          "name": "stdout"
        }
      ]
    },
    {
      "cell_type": "code",
      "metadata": {
        "colab": {
          "base_uri": "https://localhost:8080/",
          "height": 497
        },
        "id": "TjoqRrDGfuAr",
        "outputId": "9755f130-fbf8-4f5c-f41a-ff05cc6c9d6b"
      },
      "source": [
        "%%R\n",
        "plot(bn.gs)"
      ],
      "execution_count": null,
      "outputs": [
        {
          "output_type": "display_data",
          "data": {
            "image/png": "[encoded data removed]"
          },
          "metadata": {
            "tags": []
          }
        }
      ]
    },
    {
      "cell_type": "code",
      "metadata": {
        "id": "eiDtR9mRf3u6"
      },
      "source": [
        ""
      ],
      "execution_count": null,
      "outputs": []
    }
  ]
}